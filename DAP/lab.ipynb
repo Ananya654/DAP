{
 "cells": [
  {
   "cell_type": "code",
   "execution_count": 1,
   "id": "e4a73da2",
   "metadata": {},
   "outputs": [
    {
     "name": "stdout",
     "output_type": "stream",
     "text": [
      "   Name  Age  Rating\n",
      "0   Abc   30    4.23\n",
      "1   Xyz   31    3.24\n",
      "2   Def   32    3.98\n",
      "3   Pqr   30    2.56\n",
      "4   Stu   25    3.20\n",
      "5   Mno   27    4.60\n",
      "6   Bcd   26    3.80\n",
      "7   Cde   34    3.78\n",
      "8   Ghi   40    2.98\n",
      "9   Lmn   30    4.80\n",
      "10  Nop   51    4.10\n",
      "11  Efg   46    3.65\n"
     ]
    }
   ],
   "source": [
    "import pandas as pd\n",
    "import numpy as np\n",
    "\n",
    "#Create a Dictionary of series\n",
    "d = {'Name':pd.Series(['Abc','Xyz','Def','Pqr','Stu','Mno','Bcd',\n",
    "   'Cde','Ghi','Lmn','Nop','Efg']),\n",
    "   'Age':pd.Series([30,31,32,30,25,27,26,34,40,30,51,46]),\n",
    "   'Rating':pd.Series([4.23,3.24,3.98,2.56,3.20,4.6,3.8,3.78,2.98,4.80,4.10,3.65])\n",
    "}\n",
    "\n",
    "#Create a DataFrame\n",
    "df = pd.DataFrame(d)\n",
    "print (df)\n"
   ]
  },
  {
   "cell_type": "code",
   "execution_count": 2,
   "id": "c281bee2",
   "metadata": {},
   "outputs": [
    {
     "name": "stdout",
     "output_type": "stream",
     "text": [
      "Name      AbcXyzDefPqrStuMnoBcdCdeGhiLmnNopEfg\n",
      "Age                                        402\n",
      "Rating                                   44.92\n",
      "dtype: object\n"
     ]
    }
   ],
   "source": [
    "import pandas as pd\n",
    "import numpy as np\n",
    " \n",
    "#Create a Dictionary of series\n",
    "d = {'Name':pd.Series(['Abc','Xyz','Def','Pqr','Stu','Mno','Bcd',\n",
    "   'Cde','Ghi','Lmn','Nop','Efg']),\n",
    "   'Age':pd.Series([30,31,32,30,25,27,26,34,40,30,51,46]),\n",
    "   'Rating':pd.Series([4.23,3.24,3.98,2.56,3.20,4.6,3.8,3.78,2.98,4.80,4.10,3.65])\n",
    "}\n",
    "\n",
    "#Create a DataFrame\n",
    "df = pd.DataFrame(d)\n",
    "print (df.sum())"
   ]
  },
  {
   "cell_type": "code",
   "execution_count": 3,
   "id": "ea58b78f",
   "metadata": {},
   "outputs": [
    {
     "name": "stdout",
     "output_type": "stream",
     "text": [
      "0     34.23\n",
      "1     34.24\n",
      "2     35.98\n",
      "3     32.56\n",
      "4     28.20\n",
      "5     31.60\n",
      "6     29.80\n",
      "7     37.78\n",
      "8     42.98\n",
      "9     34.80\n",
      "10    55.10\n",
      "11    49.65\n",
      "dtype: float64\n"
     ]
    }
   ],
   "source": [
    "import pandas as pd\n",
    "import numpy as np\n",
    " \n",
    "#Create a Dictionary of series\n",
    "d = {'Name':pd.Series(['Abc','Xyz','Def','Pqr','Stu','Mno','Bcd',\n",
    "   'Cde','Ghi','Lmn','Nop','Efg']),\n",
    "   'Age':pd.Series([30,31,32,30,25,27,26,34,40,30,51,46]),\n",
    "   'Rating':pd.Series([4.23,3.24,3.98,2.56,3.20,4.6,3.8,3.78,2.98,4.80,4.10,3.65])\n",
    "}\n",
    " \n",
    "#Create a DataFrame\n",
    "df = pd.DataFrame(d)\n",
    "print (df.sum(1))"
   ]
  },
  {
   "cell_type": "code",
   "execution_count": 4,
   "id": "7267bf23",
   "metadata": {},
   "outputs": [
    {
     "name": "stdout",
     "output_type": "stream",
     "text": [
      "Age       33.500000\n",
      "Rating     3.743333\n",
      "dtype: float64\n"
     ]
    }
   ],
   "source": [
    "import pandas as pd\n",
    "import numpy as np\n",
    "\n",
    "#Create a Dictionary of series\n",
    "d = {'Name':pd.Series(['Abc','Xyz','Def','Pqr','Stu','Mno','Bcd',\n",
    "   'Cde','Ghi','Lmn','Nop','Efg']),\n",
    "   'Age':pd.Series([30,31,32,30,25,27,26,34,40,30,51,46]),\n",
    "   'Rating':pd.Series([4.23,3.24,3.98,2.56,3.20,4.6,3.8,3.78,2.98,4.80,4.10,3.65])\n",
    "}\n",
    "\n",
    "#Create a DataFrame\n",
    "df = pd.DataFrame(d)\n",
    "print (df.mean())"
   ]
  },
  {
   "cell_type": "code",
   "execution_count": 5,
   "id": "750b4574",
   "metadata": {},
   "outputs": [
    {
     "name": "stdout",
     "output_type": "stream",
     "text": [
      "Age       8.096015\n",
      "Rating    0.661628\n",
      "dtype: float64\n"
     ]
    }
   ],
   "source": [
    "import pandas as pd\n",
    "import numpy as np\n",
    "\n",
    "#Create a Dictionary of series\n",
    "d = {'Name':pd.Series(['Abc','Xyz','Def','Pqr','Stu','Mno','Bcd',\n",
    "   'Cde','Ghi','Lmn','Nop','Efg']),\n",
    "   'Age':pd.Series([30,31,32,30,25,27,26,34,40,30,51,46]),\n",
    "   'Rating':pd.Series([4.23,3.24,3.98,2.56,3.20,4.6,3.8,3.78,2.98,4.80,4.10,3.65])\n",
    "}\n",
    "\n",
    "#Create a DataFrame\n",
    "df = pd.DataFrame(d)\n",
    "print (df.std())"
   ]
  },
  {
   "cell_type": "code",
   "execution_count": 6,
   "id": "59496269",
   "metadata": {},
   "outputs": [
    {
     "name": "stdout",
     "output_type": "stream",
     "text": [
      "             Age     Rating\n",
      "count  12.000000  12.000000\n",
      "mean   33.500000   3.743333\n",
      "std     8.096015   0.661628\n",
      "min    25.000000   2.560000\n",
      "25%    29.250000   3.230000\n",
      "50%    30.500000   3.790000\n",
      "75%    35.500000   4.132500\n",
      "max    51.000000   4.800000\n"
     ]
    }
   ],
   "source": [
    "import pandas as pd\n",
    "import numpy as np\n",
    "\n",
    "#Create a Dictionary of series\n",
    "d = {'Name':pd.Series(['Abc','Xyz','Def','Pqr','Stu','Mno','Bcd',\n",
    "   'Cde','Ghi','Lmn','Nop','Efg']),\n",
    "   'Age':pd.Series([30,31,32,30,25,27,26,34,40,30,51,46]),\n",
    "   'Rating':pd.Series([4.23,3.24,3.98,2.56,3.20,4.6,3.8,3.78,2.98,4.80,4.10,3.65])\n",
    "}\n",
    "\n",
    "#Create a DataFrame\n",
    "df = pd.DataFrame(d)\n",
    "print (df.describe())"
   ]
  },
  {
   "cell_type": "code",
   "execution_count": 7,
   "id": "8c8fb256",
   "metadata": {},
   "outputs": [
    {
     "name": "stdout",
     "output_type": "stream",
     "text": [
      "       Name\n",
      "count    12\n",
      "unique   12\n",
      "top     Efg\n",
      "freq      1\n"
     ]
    }
   ],
   "source": [
    "import pandas as pd\n",
    "import numpy as np\n",
    "\n",
    "#Create a Dictionary of series\n",
    "d = {'Name':pd.Series(['Abc','Xyz','Def','Pqr','Stu','Mno','Bcd',\n",
    "   'Cde','Ghi','Lmn','Nop','Efg']),\n",
    "   'Age':pd.Series([30,31,32,30,25,27,26,34,40,30,51,46]),\n",
    "   'Rating':pd.Series([4.23,3.24,3.98,2.56,3.20,4.6,3.8,3.78,2.98,4.80,4.10,3.65])\n",
    "}\n",
    "\n",
    "#Create a DataFrame\n",
    "df = pd.DataFrame(d)\n",
    "print (df.describe(include=['object']))"
   ]
  },
  {
   "cell_type": "code",
   "execution_count": 8,
   "id": "9744858a",
   "metadata": {},
   "outputs": [
    {
     "name": "stdout",
     "output_type": "stream",
     "text": [
      "       Name        Age     Rating\n",
      "count    12  12.000000  12.000000\n",
      "unique   12        NaN        NaN\n",
      "top     Efg        NaN        NaN\n",
      "freq      1        NaN        NaN\n",
      "mean    NaN  33.500000   3.743333\n",
      "std     NaN   8.096015   0.661628\n",
      "min     NaN  25.000000   2.560000\n",
      "25%     NaN  29.250000   3.230000\n",
      "50%     NaN  30.500000   3.790000\n",
      "75%     NaN  35.500000   4.132500\n",
      "max     NaN  51.000000   4.800000\n"
     ]
    }
   ],
   "source": [
    "import pandas as pd\n",
    "import numpy as np\n",
    "\n",
    "#Create a Dictionary of series\n",
    "d = {'Name':pd.Series(['Abc','Xyz','Def','Pqr','Stu','Mno','Bcd',\n",
    "   'Cde','Ghi','Lmn','Nop','Efg']),\n",
    "   'Age':pd.Series([30,31,32,30,25,27,26,34,40,30,51,46]),\n",
    "   'Rating':pd.Series([4.23,3.24,3.98,2.56,3.20,4.6,3.8,3.78,2.98,4.80,4.10,3.65])\n",
    "}\n",
    "\n",
    "#Create a DataFrame\n",
    "df = pd.DataFrame(d)\n",
    "print (df. describe(include='all'))"
   ]
  },
  {
   "cell_type": "code",
   "execution_count": 9,
   "id": "16a5fef9",
   "metadata": {},
   "outputs": [
    {
     "name": "stdout",
     "output_type": "stream",
     "text": [
      "Original DataFrame:\n",
      "    Product  Price  Year\n",
      "0  Samsung  20000  2014\n",
      "1    Apple  48000  2015\n",
      "2   Xiaomi  22000  2016\n",
      "3     Oppo  19000  2017\n",
      "4   Huwaei  45000  2018\n",
      "\n",
      "Descriptive statistics of Price:\n",
      "\n",
      "count        5.00000\n",
      "mean     30800.00000\n",
      "std      14411.80072\n",
      "min      19000.00000\n",
      "25%      20000.00000\n",
      "50%      22000.00000\n",
      "75%      45000.00000\n",
      "max      48000.00000\n",
      "Name: Price, dtype: float64\n"
     ]
    }
   ],
   "source": [
    "# Import package\n",
    "from pandas import DataFrame\n",
    "\n",
    "# Create DataFrame\n",
    "cart = {'Product': ['Samsung', 'Apple', 'Xiaomi', 'Oppo', 'Huwaei'],\n",
    "\t\t'Price': [20000, 48000, 22000, 19000, 45000],\n",
    "\t\t'Year': [2014, 2015, 2016, 2017, 2018]\n",
    "\t\t}\n",
    "df = DataFrame(cart, columns = ['Product', 'Price', 'Year'])\n",
    "\n",
    "# Original DataFrame\n",
    "print(\"Original DataFrame:\\n\", df)\n",
    "\n",
    "# Describing descriptive statistics of Price\n",
    "print(\"\\nDescriptive statistics of Price:\\n\")\n",
    "stats = df['Price'].describe()\n",
    "print(stats)"
   ]
  },
  {
   "cell_type": "code",
   "execution_count": 10,
   "id": "a809a033",
   "metadata": {},
   "outputs": [
    {
     "name": "stdout",
     "output_type": "stream",
     "text": [
      "Original DataFrame:\n",
      "    Product  Price  Year\n",
      "0  Samsung  20000  2014\n",
      "1    Apple  48000  2015\n",
      "2   Xiaomi  22000  2016\n",
      "3     Oppo  19000  2017\n",
      "4   Huwaei  45000  2018\n",
      "\n",
      "Descriptive statistics of year:\n",
      "\n",
      "count       5.000000\n",
      "mean     2016.000000\n",
      "std         1.581139\n",
      "min      2014.000000\n",
      "25%      2015.000000\n",
      "50%      2016.000000\n",
      "75%      2017.000000\n",
      "max      2018.000000\n",
      "Name: Year, dtype: float64\n"
     ]
    }
   ],
   "source": [
    "# Import package\n",
    "\n",
    "\n",
    "# Create DataFrame\n",
    "cart = {'Product': ['Samsung', 'Apple', 'Xiaomi', 'Oppo', 'Huwaei'],\n",
    "\t\t'Price': [20000, 48000, 22000, 19000, 45000],\n",
    "\t\t'Year': [2014, 2015, 2016, 2017, 2018]\n",
    "\t\t}\n",
    "df = DataFrame(cart, columns = ['Product', 'Price', 'Year'])\n",
    "\n",
    "# Original DataFrame\n",
    "print(\"Original DataFrame:\\n\", df)\n",
    "\n",
    "# Describing descriptive statistics of Year\n",
    "print(\"\\nDescriptive statistics of year:\\n\")\n",
    "stats = df['Year'].describe()\n",
    "print(stats)"
   ]
  },
  {
   "cell_type": "code",
   "execution_count": 11,
   "id": "27a1cb94",
   "metadata": {},
   "outputs": [
    {
     "name": "stdout",
     "output_type": "stream",
     "text": [
      "Original DataFrame:\n",
      "    Product  Price  Year\n",
      "0  Samsung  20000  2014\n",
      "1    Apple  48000  2015\n",
      "2   Xiaomi  22000  2016\n",
      "3     Oppo  19000  2017\n",
      "4   Huwaei  45000  2018\n",
      "\n",
      "Descriptive statistics of whole dataframe:\n",
      "\n",
      "       Product        Price         Year\n",
      "count        5      5.00000     5.000000\n",
      "unique       5          NaN          NaN\n",
      "top       Oppo          NaN          NaN\n",
      "freq         1          NaN          NaN\n",
      "mean       NaN  30800.00000  2016.000000\n",
      "std        NaN  14411.80072     1.581139\n",
      "min        NaN  19000.00000  2014.000000\n",
      "25%        NaN  20000.00000  2015.000000\n",
      "50%        NaN  22000.00000  2016.000000\n",
      "75%        NaN  45000.00000  2017.000000\n",
      "max        NaN  48000.00000  2018.000000\n"
     ]
    }
   ],
   "source": [
    "# Create DataFrame\n",
    "cart = {'Product': ['Samsung', 'Apple', 'Xiaomi', 'Oppo', 'Huwaei'],\n",
    "\t\t'Price': [20000, 48000, 22000, 19000, 45000], \n",
    "\t\t'Year': [2014, 2015, 2016, 2017, 2018]\n",
    "\t\t}\n",
    "df = DataFrame(cart, columns = ['Product', 'Price', 'Year'])\n",
    "\n",
    "# Original DataFrame\n",
    "print(\"Original DataFrame:\\n\", df)\n",
    "\n",
    "# Describing descriptive statistics of whole dataframe\n",
    "print(\"\\nDescriptive statistics of whole dataframe:\\n\")\n",
    "stats = df.describe(include = 'all')\n",
    "print(stats)"
   ]
  },
  {
   "cell_type": "code",
   "execution_count": null,
   "id": "b884b746",
   "metadata": {},
   "outputs": [],
   "source": [
    "# Create DataFrame\n",
    "cart = {'Product': ['Samsung', 'Apple', 'Xiaomi', 'Oppo', 'Huwaei'],\n",
    "\t\t'Price': [20000, 48000, 22000, 19000, 45000], \n",
    "\t\t'Year': [2014, 2015, 2016, 2017, 2018]\n",
    "\t\t}\n",
    "df = DataFrame(cart, columns = ['Product', 'Price', 'Year'])\n",
    "\n",
    "# Original DataFrame\n",
    "print(\"Original DataFrame:\\n\", df)\n",
    "\n",
    "# Print Count of Price\n",
    "print(\"\\nCount of Price:\\n\")\n",
    "counts = df['Price'].count()\n",
    "print(counts)\n",
    "\n",
    "# Print mean of Price\n",
    "print(\"\\nMean of Price:\\n\")\n",
    "m = df['Price'].mean()\n",
    "print(m)\n",
    "\n",
    "# Print maximum value of Price\n",
    "print(\"\\nMaximum value of Price:\\n\")\n",
    "mx = df['Price'].max()\n",
    "print(m)\n",
    "\n",
    "# Print standard deviation of Price\n",
    "print(\"\\nStandard deviation of Price:\\n\")\n",
    "sd = df['Price'].std()\n",
    "print(sd)"
   ]
  }
 ],
 "metadata": {
  "kernelspec": {
   "display_name": "Python 3",
   "language": "python",
   "name": "python3"
  },
  "language_info": {
   "codemirror_mode": {
    "name": "ipython",
    "version": 3
   },
   "file_extension": ".py",
   "mimetype": "text/x-python",
   "name": "python",
   "nbconvert_exporter": "python",
   "pygments_lexer": "ipython3",
   "version": "3.8.8"
  }
 },
 "nbformat": 4,
 "nbformat_minor": 5
}
