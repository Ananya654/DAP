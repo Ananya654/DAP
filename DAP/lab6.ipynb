{
 "cells": [
  {
   "cell_type": "code",
   "execution_count": 1,
   "id": "223739f2",
   "metadata": {},
   "outputs": [
    {
     "name": "stdout",
     "output_type": "stream",
     "text": [
      "0   -0.268720\n",
      "1   -0.848493\n",
      "dtype: float64\n"
     ]
    }
   ],
   "source": [
    "import pandas as pd\n",
    "import numpy as np\n",
    "\n",
    "s = pd.Series(np.random.randn(2))\n",
    "print (s)"
   ]
  },
  {
   "cell_type": "code",
   "execution_count": 2,
   "id": "1b62fdec",
   "metadata": {},
   "outputs": [
    {
     "name": "stdout",
     "output_type": "stream",
     "text": [
      "axes:\n",
      "[RangeIndex(start=0, stop=2, step=1)]\n"
     ]
    }
   ],
   "source": [
    "import pandas as pd\n",
    "import numpy as np\n",
    "\n",
    "s = pd.Series(np.random.randn(2))\n",
    "print (\"axes:\")\n",
    "print (s.axes)"
   ]
  },
  {
   "cell_type": "code",
   "execution_count": 3,
   "id": "3c4256ec",
   "metadata": {},
   "outputs": [
    {
     "name": "stdout",
     "output_type": "stream",
     "text": [
      "Object seems empty!!\n",
      "False\n"
     ]
    }
   ],
   "source": [
    "import pandas as pd\n",
    "import numpy as np\n",
    "\n",
    "s = pd.Series(np.random.randn(2))\n",
    "print (\"Object seems empty!!\")\n",
    "print (s.empty)"
   ]
  },
  {
   "cell_type": "code",
   "execution_count": 4,
   "id": "7096df34",
   "metadata": {},
   "outputs": [
    {
     "name": "stdout",
     "output_type": "stream",
     "text": [
      "0    1.260633\n",
      "1    0.032166\n",
      "2    0.422848\n",
      "dtype: float64\n",
      "object dimensions :\n",
      "1\n"
     ]
    }
   ],
   "source": [
    "import pandas as pd\n",
    "import numpy as np\n",
    "\n",
    "s = pd.Series(np.random.randn(3))\n",
    "print (s)\n",
    "\n",
    "print (\"object dimensions :\")\n",
    "print (s.ndim)"
   ]
  },
  {
   "cell_type": "code",
   "execution_count": 5,
   "id": "dc3efe98",
   "metadata": {},
   "outputs": [
    {
     "name": "stdout",
     "output_type": "stream",
     "text": [
      "0    0.301757\n",
      "1   -0.222770\n",
      "2    0.329942\n",
      "3   -0.866967\n",
      "4    0.680747\n",
      "5   -0.319795\n",
      "dtype: float64\n",
      "object size:\n",
      "6\n"
     ]
    }
   ],
   "source": [
    "import pandas as pd\n",
    "import numpy as np\n",
    "\n",
    "\n",
    "s = pd.Series(np.random.randn(6))\n",
    "print (s)\n",
    "print (\"object size:\")\n",
    "print (s.size)"
   ]
  },
  {
   "cell_type": "code",
   "execution_count": 6,
   "id": "78d60b13",
   "metadata": {},
   "outputs": [
    {
     "name": "stdout",
     "output_type": "stream",
     "text": [
      "0   -1.426185\n",
      "1    2.110601\n",
      "2    0.417361\n",
      "3   -0.241178\n",
      "dtype: float64\n",
      "The actual data series is:\n",
      "[-1.42618461  2.11060083  0.41736065 -0.24117789]\n"
     ]
    }
   ],
   "source": [
    "import pandas as pd\n",
    "import numpy as np\n",
    "s = pd.Series(np.random.randn(4))\n",
    "print (s)\n",
    "\n",
    "print (\"The actual data series is:\")\n",
    "print (s.values)"
   ]
  },
  {
   "cell_type": "code",
   "execution_count": 7,
   "id": "e56e6875",
   "metadata": {},
   "outputs": [
    {
     "name": "stdout",
     "output_type": "stream",
     "text": [
      "original series:\n",
      "0    1.586207\n",
      "1   -0.975940\n",
      "2   -1.161781\n",
      "3    1.366889\n",
      "4   -0.423311\n",
      "dtype: float64\n",
      "first two rows:\n",
      "0    1.586207\n",
      "1   -0.975940\n",
      "2   -1.161781\n",
      "dtype: float64\n"
     ]
    }
   ],
   "source": [
    "import pandas as pd\n",
    "import numpy as np\n",
    "\n",
    "s = pd.Series(np.random.randn(5))\n",
    "print (\"original series:\")\n",
    "print (s)\n",
    "\n",
    "print (\"first two rows:\")\n",
    "print (s.head(3))"
   ]
  },
  {
   "cell_type": "code",
   "execution_count": 8,
   "id": "5b22c911",
   "metadata": {},
   "outputs": [
    {
     "name": "stdout",
     "output_type": "stream",
     "text": [
      "The original series is:\n",
      "0   -1.870837\n",
      "1    1.607409\n",
      "2    1.315717\n",
      "3    0.019526\n",
      "dtype: float64\n",
      "The last two rows of the data series:\n",
      "3    0.019526\n",
      "dtype: float64\n"
     ]
    }
   ],
   "source": [
    "import pandas as pd\n",
    "import numpy as np\n",
    "s = pd.Series(np.random.randn(4))\n",
    "print (\"The original series is:\")\n",
    "print (s)\n",
    "\n",
    "print (\"The last two rows of the data series:\")\n",
    "print (s.tail(1))"
   ]
  },
  {
   "cell_type": "code",
   "execution_count": 11,
   "id": "ce0ad18c",
   "metadata": {},
   "outputs": [
    {
     "name": "stdout",
     "output_type": "stream",
     "text": [
      "data series:\n",
      "         Name  Age  Rating\n",
      "0      Ananya    1    5.23\n",
      "1       suman    2    1.32\n",
      "2      rakesh    2    2.80\n",
      "3       nishu    3    2.62\n",
      "4   abhilasha    4    5.30\n",
      "5     Shubham    9    4.60\n",
      "6  ravisankar    2    1.30\n"
     ]
    }
   ],
   "source": [
    "import pandas as pd\n",
    "import numpy as np\n",
    "d = {'Name':pd.Series(['Ananya','suman','rakesh','nishu','abhilasha','Shubham','ravisankar']),\n",
    "   'Age':pd.Series([1,2,2,3,4,9,2]),\n",
    "   'Rating':pd.Series([0.23,1.32,2.80,2.62,5.3,4.6,1.3])}\n",
    "df = pd.DataFrame(d)\n",
    "print (\"data series:\")\n",
    "print (df)"
   ]
  },
  {
   "cell_type": "code",
   "execution_count": 12,
   "id": "6715746f",
   "metadata": {},
   "outputs": [
    {
     "name": "stdout",
     "output_type": "stream",
     "text": [
      "transpose:\n",
      "             0      1       2      3          4        5           6\n",
      "Name    Ananya  suman  rakesh  nishu  abhilasha  Shubham  ravisankar\n",
      "Age          1      2       3      4          2        3           3\n",
      "Rating    5.23   1.32     2.8   2.62        5.3      4.6         1.3\n"
     ]
    }
   ],
   "source": [
    "import pandas as pd\n",
    "import numpy as np\n",
    "d = {'Name':pd.Series(['Ananya','suman','rakesh','nishu','abhilasha','Shubham','ravisankar']),\n",
    "   'Age':pd.Series([1,2,3,4,2,3,3]),\n",
    "   'Rating':pd.Series([0.23,1.32,2.80,2.62,5.3,4.6,1.3])}\n",
    "\n",
    "df = pd.DataFrame(d)\n",
    "print (\"transpose:\")\n",
    "print (df.T)"
   ]
  },
  {
   "cell_type": "code",
   "execution_count": 37,
   "id": "10fd73c6",
   "metadata": {},
   "outputs": [
    {
     "name": "stdout",
     "output_type": "stream",
     "text": [
      "Row axis labels and column axis labels are:\n",
      "[RangeIndex(start=0, stop=7, step=1), Index(['Name', 'Age', 'Rating'], dtype='object')]\n"
     ]
    }
   ],
   "source": [
    "import pandas as pd\n",
    "import numpy as np\n",
    "d = {'Name':pd.Series(['Ananya','suman','rakesh','nishu','abhilasha','Shubham','ravisankar']),\n",
    "   'Age':pd.Series([1,2,3,4,2,3,3]),\n",
    "   'Rating':pd.Series([0.23,1.32,2.80,2.62,5.3,4.6,1.3])}\n",
    "df = pd.DataFrame(d)\n",
    "print (\"Row axis labels and column axis labels are:\")\n",
    "print (df.axes)"
   ]
  },
  {
   "cell_type": "code",
   "execution_count": 38,
   "id": "41389882",
   "metadata": {},
   "outputs": [
    {
     "name": "stdout",
     "output_type": "stream",
     "text": [
      "data types are:\n",
      "Name       object\n",
      "Age         int64\n",
      "Rating    float64\n",
      "dtype: object\n"
     ]
    }
   ],
   "source": [
    "import pandas as pd\n",
    "import numpy as np\n",
    "\n",
    "d = {'Name':pd.Series(['Ananya','suman','rakesh','nishu','abhilasha','Shubham','ravisankar']),\n",
    "   'Age':pd.Series([1,2,3,4,2,3,3]),\n",
    "   'Rating':pd.Series([0.23,1.32,2.80,2.62,5.3,4.6,1.3])}\n",
    "df = pd.DataFrame(d)\n",
    "print (\"data types are:\")\n",
    "print (df.dtypes)"
   ]
  },
  {
   "cell_type": "code",
   "execution_count": 39,
   "id": "e8aeb46f",
   "metadata": {},
   "outputs": [
    {
     "name": "stdout",
     "output_type": "stream",
     "text": [
      "Is the object empty?\n",
      "False\n"
     ]
    }
   ],
   "source": [
    "import pandas as pd\n",
    "import numpy as np\n",
    " \n",
    "d = {'Name':pd.Series(['Ananya','suman','rakesh','nishu','abhilasha','Shubham','ravisankar']),\n",
    "   'Age':pd.Series([1,2,3,4,2,3,3]),\n",
    "   'Rating':pd.Series([0.23,1.32,2.80,2.62,5.3,4.6,1.3])}\n",
    " \n",
    "df = pd.DataFrame(d)\n",
    "print (\"Is the object empty?\")\n",
    "print (df.empty)"
   ]
  },
  {
   "cell_type": "code",
   "execution_count": 40,
   "id": "1a383ebb",
   "metadata": {},
   "outputs": [
    {
     "name": "stdout",
     "output_type": "stream",
     "text": [
      "         Name  Age  Rating\n",
      "0      Ananya    5    0.23\n",
      "1       suman    6    1.32\n",
      "2      rakesh    2    2.80\n",
      "3       nishu    3    2.62\n",
      "4   abhilasha    3    5.30\n",
      "5     Shubham    9    4.60\n",
      "6  ravisankar    2    1.30\n",
      "The dimension of the object is:\n",
      "2\n"
     ]
    }
   ],
   "source": [
    "import pandas as pd\n",
    "import numpy as np\n",
    "d = {'Name':pd.Series(['Ananya','suman','rakesh','nishu','abhilasha','Shubham','ravisankar']),\n",
    "   'Age':pd.Series([5,6,2,3,3,9,2]),\n",
    "   'Rating':pd.Series([0.23,1.32,2.80,2.62,5.3,4.6,1.3])}\n",
    "df = pd.DataFrame(d)\n",
    "print (df)\n",
    "print (\"The dimension of the object is:\")\n",
    "print (df.ndim)"
   ]
  },
  {
   "cell_type": "code",
   "execution_count": 41,
   "id": "31921867",
   "metadata": {},
   "outputs": [
    {
     "name": "stdout",
     "output_type": "stream",
     "text": [
      "         Name  Age  Rating\n",
      "0      Ananya    5    0.23\n",
      "1       suman    6    1.32\n",
      "2      rakesh    2    2.80\n",
      "3       nishu    3    2.62\n",
      "4   abhilasha    3    5.30\n",
      "5     Shubham    9    4.60\n",
      "6  ravisankar    2    1.30\n",
      "The actual data in our data frame is:\n",
      "[['Ananya' 5 0.23]\n",
      " ['suman' 6 1.32]\n",
      " ['rakesh' 2 2.8]\n",
      " ['nishu' 3 2.62]\n",
      " ['abhilasha' 3 5.3]\n",
      " ['Shubham' 9 4.6]\n",
      " ['ravisankar' 2 1.3]]\n"
     ]
    }
   ],
   "source": [
    "import pandas as pd\n",
    "import numpy as np\n",
    "d = {'Name':pd.Series(['Ananya','suman','rakesh','nishu','abhilasha','Shubham','ravisankar']),\n",
    "   'Age':pd.Series([5,6,2,3,3,9,2]),\n",
    "   'Rating':pd.Series([0.23,1.32,2.80,2.62,5.3,4.6,1.3])}\n",
    "df = pd.DataFrame(d)\n",
    "print (df)\n",
    "print (\"The actual data in our data frame is:\")\n",
    "print (df.values)"
   ]
  },
  {
   "cell_type": "code",
   "execution_count": 42,
   "id": "352716f4",
   "metadata": {},
   "outputs": [
    {
     "name": "stdout",
     "output_type": "stream",
     "text": [
      "         Name  Age  Rating\n",
      "0      Ananya    5    0.23\n",
      "1       suman    6    1.32\n",
      "2      rakesh    2    2.80\n",
      "3       nishu    3    2.62\n",
      "4   abhilasha    3    5.30\n",
      "5     Shubham    9    4.60\n",
      "6  ravisankar    2    1.30\n",
      "The first two rows of the data frame is:\n",
      "     Name  Age  Rating\n",
      "0  Ananya    5    0.23\n",
      "1   suman    6    1.32\n",
      "2  rakesh    2    2.80\n",
      "default head values\n",
      "        Name  Age  Rating\n",
      "0     Ananya    5    0.23\n",
      "1      suman    6    1.32\n",
      "2     rakesh    2    2.80\n",
      "3      nishu    3    2.62\n",
      "4  abhilasha    3    5.30\n"
     ]
    }
   ],
   "source": [
    "import pandas as pd\n",
    "import numpy as np\n",
    "d = {'Name':pd.Series(['Ananya','suman','rakesh','nishu','abhilasha','Shubham','ravisankar']),\n",
    "   'Age':pd.Series([5,6,2,3,3,9,2]),\n",
    "   'Rating':pd.Series([0.23,1.32,2.80,2.62,5.3,4.6,1.3])}\n",
    "df = pd.DataFrame(d)\n",
    "print (df)\n",
    "print (\"The first two rows of the data frame is:\")\n",
    "print (df.head(3))\n",
    "print(\"default head values\")\n",
    "print (df.head())"
   ]
  },
  {
   "cell_type": "code",
   "execution_count": 43,
   "id": "e6128e9f",
   "metadata": {},
   "outputs": [
    {
     "name": "stdout",
     "output_type": "stream",
     "text": [
      "         Name  Age  Rating\n",
      "0      Ananya    5    0.23\n",
      "1       suman    6    1.32\n",
      "2      rakesh    2    2.80\n",
      "3       nishu    3    2.62\n",
      "4   abhilasha    3    5.30\n",
      "5     Shubham    9    4.60\n",
      "6  ravisankar    2    1.30\n",
      "The last two rows of the data frame is:\n",
      "         Name  Age  Rating\n",
      "5     Shubham    9     4.6\n",
      "6  ravisankar    2     1.3\n"
     ]
    }
   ],
   "source": [
    "import pandas as pd\n",
    "import numpy as np\n",
    "d = {'Name':pd.Series(['Ananya','suman','rakesh','nishu','abhilasha','Shubham','ravisankar']),\n",
    "   'Age':pd.Series([5,6,2,3,3,9,2]), \n",
    "   'Rating':pd.Series([0.23,1.32,2.80,2.62,5.3,4.6,1.3])}\n",
    "df = pd.DataFrame(d)\n",
    "print (df)\n",
    "print (\"The last two rows of the data frame is:\")\n",
    "print (df.tail(2))"
   ]
  },
  {
   "cell_type": "code",
   "execution_count": 44,
   "id": "83c85afd",
   "metadata": {},
   "outputs": [
    {
     "name": "stdout",
     "output_type": "stream",
     "text": [
      "    0\n",
      "0   1\n",
      "1  20\n",
      "2  34\n",
      "3  64\n",
      "4  52\n"
     ]
    }
   ],
   "source": [
    "import pandas as pd\n",
    "data = [1,20,34,64,52]\n",
    "df = pd.DataFrame(data)\n",
    "print (df)"
   ]
  },
  {
   "cell_type": "code",
   "execution_count": 45,
   "id": "1b7c8ffb",
   "metadata": {},
   "outputs": [
    {
     "name": "stdout",
     "output_type": "stream",
     "text": [
      "        Name  Age\n",
      "0     Ananya   16\n",
      "1  Abhilasha    3\n",
      "2      Swati   30\n"
     ]
    }
   ],
   "source": [
    "import pandas as pd\n",
    "data = [['Ananya',16],['Abhilasha',3],['Swati',30]]\n",
    "df = pd.DataFrame(data,columns=['Name','Age'])\n",
    "print (df)"
   ]
  },
  {
   "cell_type": "code",
   "execution_count": 46,
   "id": "4d66b57d",
   "metadata": {},
   "outputs": [
    {
     "name": "stdout",
     "output_type": "stream",
     "text": [
      "        Name  Age\n",
      "0     Ananya   16\n",
      "1  Abhilasha    3\n",
      "2      Swati   30\n"
     ]
    }
   ],
   "source": [
    "import pandas as pd\n",
    "data = [[' Ananya',16],['Abhilasha',3],['Swati',30]]\n",
    "df = pd.DataFrame(data,columns=['Name','Age'])\n",
    "print (df)\n"
   ]
  },
  {
   "cell_type": "code",
   "execution_count": 47,
   "id": "ee56979c",
   "metadata": {},
   "outputs": [
    {
     "name": "stdout",
     "output_type": "stream",
     "text": [
      "          Name  Age\n",
      "0       Ananya   18\n",
      "1        suman   14\n",
      "2       rakesh   20\n",
      "3  ravishankar   24\n"
     ]
    }
   ],
   "source": [
    "import pandas as pd\n",
    "data = {'Name':['Ananya','suman','rakesh','ravishankar'],'Age':[18,14,20,24]}\n",
    "df = pd.DataFrame(data)\n",
    "print (df)"
   ]
  },
  {
   "cell_type": "code",
   "execution_count": 48,
   "id": "ddcf3ea7",
   "metadata": {},
   "outputs": [
    {
     "name": "stdout",
     "output_type": "stream",
     "text": [
      "              Name  Age\n",
      "rank1       Ananya   18\n",
      "rank2        suman   14\n",
      "rank3       rakesh   20\n",
      "rank4  ravishankar   24\n"
     ]
    }
   ],
   "source": [
    "import pandas as pd\n",
    "data = {'Name':['Ananya','suman','rakesh','ravishankar'],'Age':[18,14,20,24]}\n",
    "df = pd.DataFrame(data, index=['rank1','rank2','rank3','rank4'])\n",
    "print (df)"
   ]
  },
  {
   "cell_type": "code",
   "execution_count": 25,
   "id": "420108ce",
   "metadata": {},
   "outputs": [
    {
     "name": "stdout",
     "output_type": "stream",
     "text": [
      "   a   b     c\n",
      "0  1   2   NaN\n",
      "1  5  10  20.0\n"
     ]
    }
   ],
   "source": [
    "import pandas as pd\n",
    "data = [{'a': 1, 'b': 2},{'a': 5, 'b': 10, 'c': 20}]\n",
    "df = pd.DataFrame(data)\n",
    "print (df)"
   ]
  },
  {
   "cell_type": "code",
   "execution_count": 26,
   "id": "d0200bd0",
   "metadata": {},
   "outputs": [
    {
     "name": "stdout",
     "output_type": "stream",
     "text": [
      "         a   b\n",
      "first   10   2\n",
      "second  15  19\n",
      "         a  b1\n",
      "first   10 NaN\n",
      "second  15 NaN\n"
     ]
    }
   ],
   "source": [
    "import pandas as pd\n",
    "data = [{'a': 10, 'b': 2},{'a': 15, 'b': 19, 'c': 2}]\n",
    "\n",
    "df1 = pd.DataFrame(data, index=['first', 'second'], columns=['a', 'b'])\n",
    "\n",
    "#With two column indices with one index with other name\n",
    "df2 = pd.DataFrame(data, index=['first', 'second'], columns=['a', 'b1'])\n",
    "print (df1)\n",
    "print (df2)"
   ]
  },
  {
   "cell_type": "code",
   "execution_count": 27,
   "id": "51dbae5d",
   "metadata": {},
   "outputs": [
    {
     "name": "stdout",
     "output_type": "stream",
     "text": [
      "   one  two\n",
      "a  1.0    1\n",
      "b  2.0    2\n",
      "c  3.0    3\n",
      "d  NaN    4\n"
     ]
    }
   ],
   "source": [
    "import pandas as pd\n",
    "d = {'one' : pd.Series([1, 2, 3], index=['a', 'b', 'c']),\n",
    "   'two' : pd.Series([1, 2, 3, 4], index=['a', 'b', 'c', 'd'])}\n",
    "df = pd.DataFrame(d)\n",
    "print (df)"
   ]
  },
  {
   "cell_type": "code",
   "execution_count": 28,
   "id": "a6a74ab2",
   "metadata": {},
   "outputs": [
    {
     "name": "stdout",
     "output_type": "stream",
     "text": [
      "a    1.0\n",
      "b    2.0\n",
      "c    3.0\n",
      "d    NaN\n",
      "Name: one, dtype: float64\n"
     ]
    }
   ],
   "source": [
    "import pandas as pd\n",
    "d = {'one' : pd.Series([1, 2, 3], index=['a', 'b', 'c']),\n",
    "   'two' : pd.Series([16, 25, 34, 43], index=['a', 'b', 'c', 'd'])}\n",
    "\n",
    "df = pd.DataFrame(d)\n",
    "print (df['one'])"
   ]
  },
  {
   "cell_type": "code",
   "execution_count": 29,
   "id": "388e410e",
   "metadata": {},
   "outputs": [
    {
     "name": "stdout",
     "output_type": "stream",
     "text": [
      "a    10\n",
      "b    22\n",
      "c    32\n",
      "d    44\n",
      "Name: one, dtype: int64\n"
     ]
    }
   ],
   "source": [
    "import pandas as pd\n",
    "de = {'one' : pd.Series([10, 22, 32,44], index=['a', 'b', 'c','d']),\n",
    "   'two' : pd.Series([1, 2, 3, 4], index=['a', 'b', 'c', 'd'])}\n",
    "\n",
    "\n",
    "df = pd.DataFrame(de)\n",
    "print (df['one'])"
   ]
  },
  {
   "cell_type": "code",
   "execution_count": 30,
   "id": "b444786a",
   "metadata": {},
   "outputs": [
    {
     "name": "stdout",
     "output_type": "stream",
     "text": [
      "   one  two\n",
      "a  1.0    1\n",
      "b  2.0    2\n",
      "c  3.0    3\n",
      "d  NaN    4\n",
      "Adding a new column by passing as Series:\n",
      "   one  two  three\n",
      "a  1.0    1   10.0\n",
      "b  2.0    2   20.0\n",
      "c  3.0    3   30.0\n",
      "d  NaN    4    NaN\n",
      "Adding a new column using the existing columns in DataFrame:\n",
      "   one  two  three  four\n",
      "a  1.0    1   10.0  11.0\n",
      "b  2.0    2   20.0  22.0\n",
      "c  3.0    3   30.0  33.0\n",
      "d  NaN    4    NaN   NaN\n"
     ]
    }
   ],
   "source": [
    "# Adding a new column to an existing DataFrame object with column label by passing new series\n",
    "\n",
    "import pandas as pd\n",
    "\n",
    "d = {'one' : pd.Series([1, 2, 3], index=['a', 'b', 'c']),\n",
    "   'two' : pd.Series([1, 2, 3, 4], index=['a', 'b', 'c', 'd'])}\n",
    "\n",
    "df = pd.DataFrame(d)\n",
    "\n",
    "print (df)\n",
    "\n",
    "print (\"Adding a new column by passing as Series:\")\n",
    "df['three']=pd.Series([10,20,30],index=['a','b','c'])\n",
    "print (df)\n",
    "\n",
    "print (\"Adding a new column using the existing columns in DataFrame:\")\n",
    "df['four']=df['two']+df['three']\n",
    "\n",
    "print (df)"
   ]
  },
  {
   "cell_type": "code",
   "execution_count": 31,
   "id": "33f513dd",
   "metadata": {},
   "outputs": [
    {
     "name": "stdout",
     "output_type": "stream",
     "text": [
      "Our dataframe is:\n",
      "   one  two  three\n",
      "a  1.0    1   10.0\n",
      "b  2.0    2   20.0\n",
      "c  3.0    3   30.0\n",
      "d  NaN    4    NaN\n",
      "Deleting the first column using DEL function:\n",
      "   two  three\n",
      "a    1   10.0\n",
      "b    2   20.0\n",
      "c    3   30.0\n",
      "d    4    NaN\n",
      "Deleting another column using POP function:\n",
      "   three\n",
      "a   10.0\n",
      "b   20.0\n",
      "c   30.0\n",
      "d    NaN\n"
     ]
    }
   ],
   "source": [
    "import pandas as pd\n",
    "\n",
    "d = {'one' : pd.Series([1, 2, 3], index=['a', 'b', 'c']), \n",
    "   'two' : pd.Series([1, 2, 3, 4], index=['a', 'b', 'c', 'd']), \n",
    "   'three' : pd.Series([10,20,30], index=['a','b','c'])}\n",
    "\n",
    "df = pd.DataFrame(d)\n",
    "print (\"Our dataframe is:\")\n",
    "print (df)\n",
    "print (\"Deleting the first column using DEL function:\")\n",
    "del df['one']\n",
    "print (df)\n",
    "print (\"Deleting another column using POP function:\")\n",
    "df.pop('two')\n",
    "print (df)"
   ]
  },
  {
   "cell_type": "code",
   "execution_count": 32,
   "id": "b8f47060",
   "metadata": {},
   "outputs": [
    {
     "name": "stdout",
     "output_type": "stream",
     "text": [
      "one    3.0\n",
      "two    2.0\n",
      "Name: b, dtype: float64\n"
     ]
    }
   ],
   "source": [
    "import pandas as pd\n",
    "\n",
    "d = {'one' : pd.Series([1, 3, 5], index=['a', 'b', 'c']), \n",
    "   'two' : pd.Series([1, 2, 3, 4], index=['a', 'b', 'c', 'd'])}\n",
    "\n",
    "df = pd.DataFrame(d)\n",
    "print (df.loc['b'])"
   ]
  },
  {
   "cell_type": "code",
   "execution_count": 33,
   "id": "47fe2b07",
   "metadata": {},
   "outputs": [
    {
     "name": "stdout",
     "output_type": "stream",
     "text": [
      "one    5.0\n",
      "two    3.0\n",
      "Name: c, dtype: float64\n"
     ]
    }
   ],
   "source": [
    "import pandas as pd\n",
    "\n",
    "d = {'one' : pd.Series([1, 3, 5], index=['a', 'b', 'c']), \n",
    "   'two' : pd.Series([1, 2, 3, 4], index=['a', 'b', 'c', 'd'])}\n",
    "\n",
    "df = pd.DataFrame(d)\n",
    "print (df.iloc[2])"
   ]
  },
  {
   "cell_type": "code",
   "execution_count": 34,
   "id": "d9663b8c",
   "metadata": {},
   "outputs": [
    {
     "name": "stdout",
     "output_type": "stream",
     "text": [
      "   one  two\n",
      "c  5.0    3\n",
      "d  NaN    4\n"
     ]
    }
   ],
   "source": [
    "import pandas as pd\n",
    "d = {'one' : pd.Series([1, 3, 5], index=['a', 'b', 'c']), \n",
    "   'two' : pd.Series([1, 2, 3, 4], index=['a', 'b', 'c', 'd'])}\n",
    "\n",
    "df = pd.DataFrame(d)\n",
    "print (df[2:4])"
   ]
  },
  {
   "cell_type": "code",
   "execution_count": 35,
   "id": "393bbe0a",
   "metadata": {},
   "outputs": [
    {
     "name": "stdout",
     "output_type": "stream",
     "text": [
      "   a  b\n",
      "0  1  3\n",
      "1  5  7\n",
      "after appending\n",
      "    a   b\n",
      "0   1   3\n",
      "1   5   7\n",
      "0   9  11\n",
      "1  13  15\n"
     ]
    }
   ],
   "source": [
    "import pandas as pd\n",
    "df = pd.DataFrame([[1, 3], [5, 7]], columns = ['a','b'])\n",
    "df2 = pd.DataFrame([[9, 11], [13, 15]], columns = ['a','b'])\n",
    "print (df)\n",
    "print(\"after appending\")\n",
    "df = df.append(df2)\n",
    "print (df)"
   ]
  },
  {
   "cell_type": "code",
   "execution_count": 36,
   "id": "b4351b61",
   "metadata": {},
   "outputs": [
    {
     "name": "stdout",
     "output_type": "stream",
     "text": [
      "    a   b\n",
      "1   5   7\n",
      "1  13  15\n"
     ]
    }
   ],
   "source": [
    "#Deletion of Rows\n",
    "\n",
    "import pandas as pd\n",
    "\n",
    "df = pd.DataFrame([[1, 3], [5, 7]], columns = ['a','b'])\n",
    "df2 = pd.DataFrame([[9, 11], [13, 15]], columns = ['a','b'])\n",
    "\n",
    "df = df.append(df2)\n",
    "\n",
    "# Drop rows with label 0\n",
    "df = df.drop(0)\n",
    "\n",
    "print (df)"
   ]
  },
  {
   "cell_type": "code",
   "execution_count": null,
   "id": "f3d73f26",
   "metadata": {},
   "outputs": [],
   "source": []
  }
 ],
 "metadata": {
  "kernelspec": {
   "display_name": "Python 3",
   "language": "python",
   "name": "python3"
  },
  "language_info": {
   "codemirror_mode": {
    "name": "ipython",
    "version": 3
   },
   "file_extension": ".py",
   "mimetype": "text/x-python",
   "name": "python",
   "nbconvert_exporter": "python",
   "pygments_lexer": "ipython3",
   "version": "3.8.8"
  }
 },
 "nbformat": 4,
 "nbformat_minor": 5
}
