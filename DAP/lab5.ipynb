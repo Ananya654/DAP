{
 "cells": [
  {
   "cell_type": "code",
   "execution_count": 1,
   "id": "d50c0319",
   "metadata": {},
   "outputs": [
    {
     "name": "stdout",
     "output_type": "stream",
     "text": [
      "Print A=  10\n",
      "Print B=  [11 22 33]\n",
      "After Addition = [21 32 43]\n",
      "After Subtraction = [ 1 12 23]\n",
      "After Multiplcation = [110 220 330]\n",
      "After Division = [1.1 2.2 3.3]\n",
      "After Division = [1. 2. 3.]\n"
     ]
    }
   ],
   "source": [
    "import numpy as np\n",
    "\n",
    "a=np.array(10)\n",
    "\n",
    "print(\"Print A= \",a)\n",
    "\n",
    "b=np.array([11,22,33])\n",
    "\n",
    "print(\"Print B= \", b)\n",
    "\n",
    "addition= np.add(a,b)\n",
    "\n",
    "print(\"After Addition =\", addition)\n",
    "\n",
    "sub=np.subtract(b,a)\n",
    "\n",
    "print(\"After Subtraction =\",sub)\n",
    "\n",
    "mul=np.multiply (a,b)\n",
    "\n",
    "print(\"After Multiplcation =\",mul)\n",
    "\n",
    "div=np.divide (b,a)\n",
    "\n",
    "print(\"After Division =\",div)\n",
    "\n",
    "div1=np.divide (b,11)\n",
    "\n",
    "print(\"After Division =\",div1)"
   ]
  },
  {
   "cell_type": "code",
   "execution_count": 2,
   "id": "478a7718",
   "metadata": {},
   "outputs": [
    {
     "name": "stdout",
     "output_type": "stream",
     "text": [
      "[  0.16   3.33   1.   133.  ]\n",
      "[6.25      0.3003003 1.        0.0075188]\n"
     ]
    }
   ],
   "source": [
    "a= np.array([0.16,3.33,1,133])\n",
    "\n",
    "print(a)\n",
    "\n",
    "rec=np.reciprocal(a) \n",
    "print(rec)"
   ]
  },
  {
   "cell_type": "code",
   "execution_count": 3,
   "id": "11d04a3b",
   "metadata": {},
   "outputs": [
    {
     "name": "stdout",
     "output_type": "stream",
     "text": [
      "[ 9 27 81]\n",
      "after ^3 =  [   729  19683 531441]\n",
      "after b array elements as ^ =  [  9 729  81]\n"
     ]
    }
   ],
   "source": [
    "a=np.array([9,27,81])\n",
    "\n",
    "print(a)\n",
    "\n",
    "pow=np.power(a,3)\n",
    "print(\"after ^3 = \", pow)\n",
    "\n",
    "\n",
    "b=np.array([1,2,1])\n",
    "\n",
    "pow1=np.power(a,b)\n",
    "print(\"after b array elements as ^ = \", pow1)"
   ]
  },
  {
   "cell_type": "code",
   "execution_count": 4,
   "id": "b50280c6",
   "metadata": {},
   "outputs": [
    {
     "name": "stdout",
     "output_type": "stream",
     "text": [
      "A= [ 5 15 45]\n",
      "B= [2 4 6]\n",
      "MOD= [1 3 3]\n",
      "REMAINDER= [1 3 3]\n"
     ]
    }
   ],
   "source": [
    "a= np.array ([5,15,45])\n",
    "b= np.array ([2,4,6])\n",
    "\n",
    "print(\"A=\", a)\n",
    "print(\"B=\", b)\n",
    "\n",
    "mm=np.mod(a,b)\n",
    "\n",
    "rm=np.remainder(a,b)\n",
    "\n",
    "print(\"MOD=\", mm)\n",
    "print(\"REMAINDER=\", rm)"
   ]
  },
  {
   "cell_type": "code",
   "execution_count": 5,
   "id": "9b105a94",
   "metadata": {},
   "outputs": [
    {
     "name": "stdout",
     "output_type": "stream",
     "text": [
      "[-0.-1.6j  0.+0.3j 10.+0.j   1.+1.j ]\n",
      "real= [-0.  0. 10.  1.]\n",
      "imaginary= [-1.6  0.3  0.   1. ]\n",
      "Conjugate= [-0.+1.6j  0.-0.3j 10.-0.j   1.-1.j ]\n"
     ]
    }
   ],
   "source": [
    "a=np.array([-1.6j, 0.3j,10, 1+1j])\n",
    "print(a)\n",
    "\n",
    "print(\"real=\",np.real(a))\n",
    "\n",
    "print(\"imaginary=\",np.imag(a))\n",
    "\n",
    "print(\"Conjugate=\", np.conj(a))"
   ]
  },
  {
   "cell_type": "code",
   "execution_count": 6,
   "id": "1fc2902b",
   "metadata": {},
   "outputs": [
    {
     "name": "stdout",
     "output_type": "stream",
     "text": [
      "[ 12.     4.6  111.     0.56  20.25  52.  ]\n",
      "after rounding up= [ 12.   5. 111.   1.  20.  52.]\n",
      "after rounding up to 1st decimal value = [ 12.    4.6 111.    0.6  20.2  52. ]\n"
     ]
    }
   ],
   "source": [
    "a=np.array ([12.0,4.6,111,0.56,20.25,52])\n",
    "\n",
    "print(a)\n",
    "\n",
    "print(\"after rounding up=\", np.around(a))\n",
    "\n",
    "print(\"after rounding up to 1st decimal value =\", np.around(a,decimals=1))"
   ]
  },
  {
   "cell_type": "code",
   "execution_count": 7,
   "id": "14763fa7",
   "metadata": {},
   "outputs": [
    {
     "name": "stdout",
     "output_type": "stream",
     "text": [
      "[ 6.00e+00 -5.30e+00  1.00e+02 -1.00e-01  2.55e+01  3.21e+02]\n",
      "\n",
      "\n",
      "[  6.  -6. 100.  -1.  25. 321.]\n",
      "[  6.  -5. 100.  -0.  26. 321.]\n"
     ]
    }
   ],
   "source": [
    "a=np.array ([6.0,-5.3,100,-0.100,25.5,321])\n",
    "\n",
    "print(a)\n",
    "\n",
    "print('\\n')\n",
    "\n",
    "print(np.floor(a))\n",
    "\n",
    "print(np.ceil(a))"
   ]
  },
  {
   "cell_type": "code",
   "execution_count": 8,
   "id": "26c2adb3",
   "metadata": {},
   "outputs": [
    {
     "name": "stdout",
     "output_type": "stream",
     "text": [
      "[1 2 3]\n"
     ]
    }
   ],
   "source": [
    "np= np.array([1, 2, 3])\n",
    "print(np)"
   ]
  },
  {
   "cell_type": "code",
   "execution_count": 9,
   "id": "af5fc0fe",
   "metadata": {},
   "outputs": [
    {
     "name": "stdout",
     "output_type": "stream",
     "text": [
      "[[ 1  2  3  4]\n",
      " [ 5  6  7  8]\n",
      " [ 9 10 11 12]]\n"
     ]
    }
   ],
   "source": [
    "import numpy as npp\n",
    "a = npp.array([[1 , 2, 3, 4], [5, 6, 7, 8], [9, 10, 11, 12]])\n",
    "print(a)"
   ]
  },
  {
   "cell_type": "code",
   "execution_count": 10,
   "id": "adf523ab",
   "metadata": {},
   "outputs": [
    {
     "name": "stdout",
     "output_type": "stream",
     "text": [
      "[0. 0. 0.]\n"
     ]
    }
   ],
   "source": [
    "import numpy as np\n",
    "a=np.zeros(3)\n",
    "print(a)"
   ]
  },
  {
   "cell_type": "code",
   "execution_count": 11,
   "id": "0aafdcb2",
   "metadata": {},
   "outputs": [
    {
     "name": "stdout",
     "output_type": "stream",
     "text": [
      "[10.  1.]\n",
      "[0 1 2 3 4 5 6]\n",
      "[3 5 7]\n"
     ]
    }
   ],
   "source": [
    "ab=np.empty(2)\n",
    "print(ab)\n",
    "\n",
    "a=np.arange(7)\n",
    "print(a)\n",
    "\n",
    "a=np.arange(3,9,2)\n",
    "print(a)"
   ]
  },
  {
   "cell_type": "code",
   "execution_count": 13,
   "id": "743d3005",
   "metadata": {},
   "outputs": [
    {
     "name": "stdout",
     "output_type": "stream",
     "text": [
      "[1 1]\n",
      "[1 2 3 4 5 6 7 8]\n",
      "[1 2 3 4 5 6 7 8]\n",
      "[1 2 4 5 6 7 8]\n"
     ]
    }
   ],
   "source": [
    "y = np.ones(2, dtype=int)\n",
    "print(y)\n",
    "y\n",
    "\n",
    "arr = np.array([1, 2, 3, 4, 5, 6, 7, 8])\n",
    "print(arr)\n",
    "\n",
    "a = np.array([1, 2, 3, 4, 5, 6, 7, 8])\n",
    "print(a)\n",
    "a=np.delete(a, 2)\n",
    "print(a)"
   ]
  },
  {
   "cell_type": "code",
   "execution_count": 14,
   "id": "1615b345",
   "metadata": {},
   "outputs": [
    {
     "name": "stdout",
     "output_type": "stream",
     "text": [
      "[21 42 49  1 85 67  7 81]\n",
      "[ 1  7 21 42 49 67 81 85]\n"
     ]
    }
   ],
   "source": [
    "a = np.array([21, 42, 49, 1, 85, 67, 7, 81])\n",
    "print(a)\n",
    "\n",
    "\n",
    "a=np.sort(a)\n",
    "print(a)"
   ]
  },
  {
   "cell_type": "code",
   "execution_count": 15,
   "id": "e45fae5e",
   "metadata": {},
   "outputs": [
    {
     "name": "stdout",
     "output_type": "stream",
     "text": [
      "[[2 4 6]\n",
      " [1 2 4]]\n",
      "dimensions =  2\n"
     ]
    }
   ],
   "source": [
    "arr = np.array([[2, 4, 6], [1, 2, 4]])\n",
    "a=arr.ndim\n",
    "print(arr) \n",
    "print(\"dimensions = \", a)"
   ]
  },
  {
   "cell_type": "code",
   "execution_count": 16,
   "id": "aafbce17",
   "metadata": {},
   "outputs": [
    {
     "name": "stdout",
     "output_type": "stream",
     "text": [
      "[[[ 2  4  5]\n",
      "  [ 1  2  3]]\n",
      "\n",
      " [[10 20 30]\n",
      "  [21 42 84]]]\n",
      "dimensions =  3\n",
      "size =  12\n"
     ]
    }
   ],
   "source": [
    "arr = np.array([[[2, 4, 5], [1, 2, 3]], [[10, 20, 30], [21, 42, 84]]])\n",
    "a=arr.ndim\n",
    "b=arr.size\n",
    "print(arr) \n",
    "print(\"dimensions = \", a)\n",
    "print(\"size = \", b)"
   ]
  },
  {
   "cell_type": "code",
   "execution_count": 17,
   "id": "a7056d3a",
   "metadata": {},
   "outputs": [
    {
     "name": "stdout",
     "output_type": "stream",
     "text": [
      "50\n",
      "dimension=  0\n",
      "[1 2 3 4 5]\n",
      "dimension=  1\n",
      "[[1 2 3]\n",
      " [4 5 6]]\n",
      "dimension=  2\n",
      "[[[1 2 3]\n",
      "  [4 5 6]]\n",
      "\n",
      " [[1 2 3]\n",
      "  [4 5 6]]]\n",
      "dimension=  3\n"
     ]
    }
   ],
   "source": [
    "a = np.array(50)\n",
    "b = np.array([1, 2, 3, 4, 5])\n",
    "c = np.array([[1, 2, 3], [4, 5, 6]])\n",
    "d = np.array([[[1, 2, 3], [4, 5, 6]], [[1, 2, 3], [4, 5, 6]]])\n",
    "\n",
    "print(a)\n",
    "print(\"dimension= \", a.ndim)\n",
    "print(b)\n",
    "print(\"dimension= \", b.ndim)\n",
    "print(c)\n",
    "print(\"dimension= \", c.ndim)\n",
    "print(d)\n",
    "print(\"dimension= \", d.ndim)"
   ]
  },
  {
   "cell_type": "code",
   "execution_count": 18,
   "id": "278cb1e2",
   "metadata": {},
   "outputs": [
    {
     "name": "stdout",
     "output_type": "stream",
     "text": [
      "(2, 4)\n"
     ]
    }
   ],
   "source": [
    "arr = np.array([[1, 2, 3, 4], [5, 6, 7, 8]])\n",
    "\n",
    "print(arr.shape)"
   ]
  },
  {
   "cell_type": "code",
   "execution_count": 19,
   "id": "921b0cf3",
   "metadata": {},
   "outputs": [
    {
     "name": "stdout",
     "output_type": "stream",
     "text": [
      "[0 1 2 3 4]\n",
      "[[0 1 2 3 4]]\n"
     ]
    }
   ],
   "source": [
    "a = np.arange(5)\n",
    "print(a)\n",
    "\n",
    "b = a.reshape(1,5)\n",
    "print(b)"
   ]
  },
  {
   "cell_type": "code",
   "execution_count": 20,
   "id": "d21a449d",
   "metadata": {},
   "outputs": [
    {
     "name": "stdout",
     "output_type": "stream",
     "text": [
      "(array([], dtype=int64),)\n"
     ]
    }
   ],
   "source": [
    "import numpy as np\n",
    "\n",
    "arr = np.array([10,11,12,4,5,12])\n",
    "\n",
    "x = np.where(arr == 2)\n",
    "\n",
    "print(x)"
   ]
  },
  {
   "cell_type": "code",
   "execution_count": 21,
   "id": "21c9f210",
   "metadata": {},
   "outputs": [
    {
     "name": "stdout",
     "output_type": "stream",
     "text": [
      "(array([1, 3, 5, 7], dtype=int64),)\n"
     ]
    }
   ],
   "source": [
    "import numpy as np\n",
    "\n",
    "arr = np.array([1, 2, 3, 4, 5, 6, 7, 8])\n",
    "\n",
    "x = np.where(arr%2 == 0)\n",
    "\n",
    "print(x)"
   ]
  },
  {
   "cell_type": "code",
   "execution_count": 22,
   "id": "7075b6b6",
   "metadata": {},
   "outputs": [
    {
     "name": "stdout",
     "output_type": "stream",
     "text": [
      "(array([2, 4, 6], dtype=int64),)\n"
     ]
    }
   ],
   "source": [
    "import numpy as np\n",
    "\n",
    "arr = np.array([10, 12, 23, 34, 45, 56, 67, 78])\n",
    "\n",
    "x = np.where(arr%2 == 1)\n",
    "\n",
    "print(x)"
   ]
  },
  {
   "cell_type": "code",
   "execution_count": 24,
   "id": "bed7d3a5",
   "metadata": {},
   "outputs": [
    {
     "name": "stdout",
     "output_type": "stream",
     "text": [
      "2\n"
     ]
    }
   ],
   "source": [
    "\n",
    "import numpy as np\n",
    "\n",
    "arr = np.array([6, 7, 18, 19])\n",
    "\n",
    "x = np.searchsorted(arr,11)\n",
    "\n",
    "print(x)"
   ]
  },
  {
   "cell_type": "code",
   "execution_count": 25,
   "id": "27fb90a9",
   "metadata": {},
   "outputs": [
    {
     "name": "stdout",
     "output_type": "stream",
     "text": [
      "4\n"
     ]
    }
   ],
   "source": [
    "import numpy as np\n",
    "\n",
    "arr = np.array([6, 7, 8, 9])\n",
    "\n",
    "x = np.searchsorted(arr, 9, side='right')\n",
    "\n",
    "print(x)"
   ]
  },
  {
   "cell_type": "code",
   "execution_count": 26,
   "id": "e987c6b7",
   "metadata": {},
   "outputs": [
    {
     "name": "stdout",
     "output_type": "stream",
     "text": [
      "[0 2 3]\n"
     ]
    }
   ],
   "source": [
    "import numpy as np\n",
    "\n",
    "arr = np.array([1, 2, 3, 4])\n",
    "\n",
    "x = np.searchsorted(arr, [1, 3, 4])\n",
    "\n",
    "print(x)"
   ]
  },
  {
   "cell_type": "code",
   "execution_count": 27,
   "id": "f855695d",
   "metadata": {},
   "outputs": [
    {
     "name": "stdout",
     "output_type": "stream",
     "text": [
      "[21 32 45 63]\n"
     ]
    }
   ],
   "source": [
    "import numpy as np\n",
    "\n",
    "arr = np.array([11, 21 ,32, 45,63,24,38])\n",
    "\n",
    "print(arr[1:5])"
   ]
  },
  {
   "cell_type": "code",
   "execution_count": 28,
   "id": "8ab9eb94",
   "metadata": {},
   "outputs": [
    {
     "name": "stdout",
     "output_type": "stream",
     "text": [
      "[63 24 38]\n"
     ]
    }
   ],
   "source": [
    "import numpy as np\n",
    "\n",
    "arr = np.array([11, 21 ,32, 45,63,24,38])\n",
    "\n",
    "print(arr[4:])"
   ]
  },
  {
   "cell_type": "code",
   "execution_count": 29,
   "id": "dbf52fe5",
   "metadata": {},
   "outputs": [
    {
     "name": "stdout",
     "output_type": "stream",
     "text": [
      "[11 21 32 45]\n"
     ]
    }
   ],
   "source": [
    "import numpy as np\n",
    "\n",
    "arr = np.array([11, 21 ,32, 45,63,24,38])\n",
    "\n",
    "print(arr[:4])"
   ]
  },
  {
   "cell_type": "code",
   "execution_count": 32,
   "id": "5415b31c",
   "metadata": {},
   "outputs": [
    {
     "name": "stdout",
     "output_type": "stream",
     "text": [
      "[63]\n",
      "[21]\n",
      "[11 21 32 45 63 24 38]\n",
      "[63]\n",
      "[11 12]\n",
      "[ 3  8 44]\n",
      "[[21 32 26]\n",
      " [63 24 38]]\n"
     ]
    }
   ],
   "source": [
    "import numpy as np\n",
    "arr = np.array([11, 21 ,32, 45,63,24,38])\n",
    "print(arr[-3:-2])\n",
    "\n",
    "import numpy as np\n",
    "arr = np.array([11, 21 ,32, 45,63,24,38])\n",
    "print(arr[1:2:3])\n",
    "\n",
    "import numpy as np\n",
    "arr = np.array([11, 21 ,32, 45,63,24,38])\n",
    "print(arr[::1])\n",
    "\n",
    "import numpy as np\n",
    "arr = np.array([[11, 21 ,32,26], [45,63,24,38]])\n",
    "print(arr[1, 1:2])\n",
    "\n",
    "import numpy as np\n",
    "arr = np.array([[1, 2, 3, 4, 5], [6, 7, 8, 9, 10],[11,12,13,14,15]])\n",
    "print(arr[2,0:2])\n",
    "\n",
    "import numpy as np\n",
    "arr = np.array([[1, 2, 3, 4, 5], [6, 7, 8, 9, 10],[22,33,44,55,66]])\n",
    "print(arr[0:3, 2])\n",
    "\n",
    "import numpy as np\n",
    "arr = np.array([[11, 21 ,32,26], [45,63,24,38]])\n",
    "print(arr[0:2, 1:4])\n"
   ]
  },
  {
   "cell_type": "code",
   "execution_count": 33,
   "id": "471963b4",
   "metadata": {},
   "outputs": [
    {
     "name": "stdout",
     "output_type": "stream",
     "text": [
      "[array([11, 13]), array([15, 17]), array([19])]\n"
     ]
    }
   ],
   "source": [
    "import numpy as np\n",
    "\n",
    "arr = np.array([11,13,15,17,19])\n",
    "\n",
    "newarr = np.array_split(arr, 3)\n",
    "\n",
    "print(newarr)"
   ]
  },
  {
   "cell_type": "code",
   "execution_count": 34,
   "id": "3281b3e7",
   "metadata": {},
   "outputs": [
    {
     "name": "stdout",
     "output_type": "stream",
     "text": [
      "[11 13 15]\n",
      "[17 19]\n"
     ]
    }
   ],
   "source": [
    "import numpy as np\n",
    "\n",
    "arr = np.array([11,13,15,17,19])\n",
    "\n",
    "newarr = np.array_split(arr, 2)\n",
    "\n",
    "print(newarr[0])\n",
    "print(newarr[1])"
   ]
  },
  {
   "cell_type": "code",
   "execution_count": 35,
   "id": "6dada63f",
   "metadata": {},
   "outputs": [
    {
     "name": "stdout",
     "output_type": "stream",
     "text": [
      "\n",
      "\n",
      "[[1 2]\n",
      " [3 4]]\n",
      "\n",
      "\n",
      "[[5 6]\n",
      " [7 8]]\n",
      "\n",
      "\n",
      "[[ 9 10]\n",
      " [11 12]]\n"
     ]
    }
   ],
   "source": [
    "import numpy as np\n",
    "\n",
    "arr = np.array([[1, 2], [3, 4], [5, 6], [7, 8], [9, 10], [11, 12]])\n",
    "\n",
    "newarr = np.array_split(arr, 3)\n",
    "print(\"\\n\")\n",
    "print(newarr[0])\n",
    "print(\"\\n\")\n",
    "print(newarr[1])\n",
    "print(\"\\n\")\n",
    "print(newarr[2])"
   ]
  },
  {
   "cell_type": "code",
   "execution_count": 36,
   "id": "c7194e17",
   "metadata": {},
   "outputs": [
    {
     "name": "stdout",
     "output_type": "stream",
     "text": [
      "\n",
      "\n",
      "[[1 2]\n",
      " [3 4]]\n",
      "[[5 6]\n",
      " [7 8]]\n"
     ]
    }
   ],
   "source": [
    "import numpy as np\n",
    "\n",
    "arr = np.array([[1, 2], [3, 4], [5, 6], [7, 8], [9, 10], [11, 12]])\n",
    "\n",
    "newarr = np.array_split(arr, 4)\n",
    "print(\"\\n\")\n",
    "print(newarr[0])\n",
    "print(newarr[1])"
   ]
  },
  {
   "cell_type": "code",
   "execution_count": 37,
   "id": "5d3bd881",
   "metadata": {},
   "outputs": [
    {
     "name": "stdout",
     "output_type": "stream",
     "text": [
      "[[1 2 3]\n",
      " [4 5 6]]\n",
      "[[ 7  8  9]\n",
      " [10 11 12]]\n",
      "[[13 14 15]\n",
      " [16 17 18]]\n"
     ]
    }
   ],
   "source": [
    "import numpy as np\n",
    "\n",
    "arr = np.array([[1, 2, 3], [4, 5, 6], [7, 8, 9], [10, 11, 12], [13, 14, 15], [16, 17, 18]])\n",
    "\n",
    "newarr = np.array_split(arr, 3)\n",
    "print(newarr[0])\n",
    "print(newarr[1])\n",
    "\n",
    "print(newarr[2])"
   ]
  },
  {
   "cell_type": "code",
   "execution_count": 38,
   "id": "f0a9d206",
   "metadata": {},
   "outputs": [
    {
     "name": "stdout",
     "output_type": "stream",
     "text": [
      "\n",
      "\n",
      "[[ 1]\n",
      " [ 4]\n",
      " [ 7]\n",
      " [10]\n",
      " [13]\n",
      " [16]]\n",
      "\n",
      "\n",
      "[[ 2]\n",
      " [ 5]\n",
      " [ 8]\n",
      " [11]\n",
      " [14]\n",
      " [17]]\n",
      "\n",
      "\n",
      "[[ 3]\n",
      " [ 6]\n",
      " [ 9]\n",
      " [12]\n",
      " [15]\n",
      " [18]]\n"
     ]
    }
   ],
   "source": [
    "import numpy as np\n",
    "\n",
    "arr = np.array([[1, 2, 3], [4, 5, 6], [7, 8, 9], [10, 11, 12], [13, 14, 15], [16, 17, 18]])\n",
    "\n",
    "newarr = np.array_split(arr, 3, axis=1)\n",
    "\n",
    "print(\"\\n\")\n",
    "print(newarr[0])\n",
    "print(\"\\n\")\n",
    "print(newarr[1])\n",
    "print(\"\\n\")\n",
    "print(newarr[2])"
   ]
  },
  {
   "cell_type": "code",
   "execution_count": 39,
   "id": "520388f0",
   "metadata": {},
   "outputs": [
    {
     "name": "stdout",
     "output_type": "stream",
     "text": [
      "[[ 1]\n",
      " [ 4]\n",
      " [ 7]\n",
      " [10]\n",
      " [13]\n",
      " [16]]\n",
      "[[ 2]\n",
      " [ 5]\n",
      " [ 8]\n",
      " [11]\n",
      " [14]\n",
      " [17]]\n",
      "[[ 3]\n",
      " [ 6]\n",
      " [ 9]\n",
      " [12]\n",
      " [15]\n",
      " [18]]\n"
     ]
    }
   ],
   "source": [
    "import numpy as np\n",
    "\n",
    "arr = np.array([[1, 2, 3], [4, 5, 6], [7, 8, 9], [10, 11, 12], [13, 14, 15], [16, 17, 18]])\n",
    "\n",
    "newarr = np.hsplit(arr, 3)\n",
    "print(newarr[0])\n",
    "print(newarr[1])\n",
    "print(newarr[2])"
   ]
  },
  {
   "cell_type": "code",
   "execution_count": 40,
   "id": "14a0f928",
   "metadata": {},
   "outputs": [
    {
     "name": "stdout",
     "output_type": "stream",
     "text": [
      "[[1 2 3]\n",
      " [4 5 6]]\n",
      "[[ 7  8  9]\n",
      " [10 11 12]]\n",
      "[[13 14 15]\n",
      " [16 17 18]]\n"
     ]
    }
   ],
   "source": [
    "import numpy as np\n",
    "\n",
    "arr = np.array([[1, 2, 3], [4, 5, 6], [7, 8, 9], [10, 11, 12], [13, 14, 15], [16, 17, 18]])\n",
    "\n",
    "newarr = np.vsplit(arr, 3)\n",
    "print(newarr[0])\n",
    "print(newarr[1])\n",
    "print(newarr[2])"
   ]
  },
  {
   "cell_type": "code",
   "execution_count": 41,
   "id": "bea42094",
   "metadata": {},
   "outputs": [
    {
     "name": "stdout",
     "output_type": "stream",
     "text": [
      "[10 20 30 40 50 60]\n"
     ]
    }
   ],
   "source": [
    "import numpy as np\n",
    "\n",
    "arr1 = np.array([10, 20, 30])\n",
    "\n",
    "arr2 = np.array([40, 50, 60])\n",
    "\n",
    "arr = np.concatenate((arr1, arr2))\n",
    "\n",
    "print(arr)"
   ]
  },
  {
   "cell_type": "code",
   "execution_count": 42,
   "id": "9d57404c",
   "metadata": {},
   "outputs": [
    {
     "name": "stdout",
     "output_type": "stream",
     "text": [
      "arr1= [[1 3]\n",
      " [5 7]]\n",
      "arr2= [[5 6]\n",
      " [7 8]]\n",
      "after concatenation =\n",
      "[[1 3 5 6]\n",
      " [5 7 7 8]]\n"
     ]
    }
   ],
   "source": [
    "import numpy as np\n",
    "\n",
    "arr1 = np.array([[1, 3], [5, 7]])\n",
    "\n",
    "print(\"arr1=\", arr1) \n",
    "\n",
    "arr2 = np.array([[5, 6], [7, 8]])\n",
    "\n",
    "print(\"arr2=\", arr2) \n",
    "\n",
    "print(\"after concatenation =\")\n",
    "\n",
    "arr = np.concatenate((arr1, arr2), axis=1)\n",
    "\n",
    "print(arr)"
   ]
  },
  {
   "cell_type": "code",
   "execution_count": 43,
   "id": "ecbd556a",
   "metadata": {},
   "outputs": [
    {
     "name": "stdout",
     "output_type": "stream",
     "text": [
      "[1 3 5 4 5 6]\n"
     ]
    }
   ],
   "source": [
    "import numpy as np\n",
    "\n",
    "arr1 = np.array([1, 3, 5])\n",
    "\n",
    "arr2 = np.array([4, 5, 6])\n",
    "\n",
    "arr = np.hstack((arr1, arr2))\n",
    "\n",
    "print(arr)"
   ]
  },
  {
   "cell_type": "code",
   "execution_count": 44,
   "id": "7972cee0",
   "metadata": {},
   "outputs": [
    {
     "name": "stdout",
     "output_type": "stream",
     "text": [
      "[[1 3 5]\n",
      " [4 5 6]]\n"
     ]
    }
   ],
   "source": [
    "import numpy as np\n",
    "\n",
    "arr1 = np.array([1, 3, 5])\n",
    "\n",
    "arr2 = np.array([4, 5, 6])\n",
    "\n",
    "arr = np.vstack((arr1, arr2))\n",
    "\n",
    "print(arr)"
   ]
  },
  {
   "cell_type": "code",
   "execution_count": 45,
   "id": "de7ed2aa",
   "metadata": {},
   "outputs": [
    {
     "name": "stdout",
     "output_type": "stream",
     "text": [
      "hstack = [1 3 5 4 5 6]\n",
      "vstack = [[1 3 5]\n",
      " [4 5 6]]\n",
      "hstack = [[1 4]\n",
      " [3 5]\n",
      " [5 6]]\n",
      "vstack = [[1]\n",
      " [3]\n",
      " [5]\n",
      " [4]\n",
      " [5]\n",
      " [6]]\n"
     ]
    }
   ],
   "source": [
    "a = np.array([1,3,5])\n",
    "\n",
    "b = np.array([4,5,6])\n",
    "\n",
    "print(\"hstack =\", np.hstack((a,b)))\n",
    "\n",
    "print(\"vstack =\", np.vstack((a,b)))\n",
    "\n",
    "a = np.array([[1],[3],[5]])\n",
    "\n",
    "b = np.array([[4],[5],[6]])\n",
    "\n",
    "print(\"hstack =\", np.hstack((a,b)))\n",
    "\n",
    "print(\"vstack =\", np.vstack((a,b)))"
   ]
  },
  {
   "cell_type": "code",
   "execution_count": 46,
   "id": "d4d47a1a",
   "metadata": {},
   "outputs": [
    {
     "name": "stdout",
     "output_type": "stream",
     "text": [
      "\n",
      "hstack =\n",
      " [[   1    2    3    7    8    9]\n",
      " [  10   20   30   77   88   99]\n",
      " [ 110  220  330  700  800  900]\n",
      " [1100 2200 3300 7770 8880 9990]]\n",
      "\n",
      "vstack =\n",
      " [[   1    2    3]\n",
      " [  10   20   30]\n",
      " [ 110  220  330]\n",
      " [1100 2200 3300]\n",
      " [   7    8    9]\n",
      " [  77   88   99]\n",
      " [ 700  800  900]\n",
      " [7770 8880 9990]]\n",
      "\n",
      " concatenate at axis 0=\n",
      " [[   1    2    3]\n",
      " [  10   20   30]\n",
      " [ 110  220  330]\n",
      " [1100 2200 3300]\n",
      " [   7    8    9]\n",
      " [  77   88   99]\n",
      " [ 700  800  900]\n",
      " [7770 8880 9990]]\n",
      "\n",
      " concatenate at axis 1=\n",
      " [[   1    2    3    7    8    9]\n",
      " [  10   20   30   77   88   99]\n",
      " [ 110  220  330  700  800  900]\n",
      " [1100 2200 3300 7770 8880 9990]]\n"
     ]
    }
   ],
   "source": [
    "a = np.array([[1,2,3],[10,20,30],[110,220,330],[1100,2200,3300]])\n",
    "\n",
    "b = np.array([[7,8,9],[77,88,99],[700,800,900],[7770,8880,9990]])\n",
    "\n",
    "print(\"\\nhstack =\\n\", np.hstack((a,b)))\n",
    "\n",
    "print(\"\\nvstack =\\n\", np.vstack((a,b)))\n",
    "\n",
    "arr = np.concatenate((a, b), axis=0)\n",
    "print(\"\\n concatenate at axis 0=\\n\",arr)\n",
    "\n",
    "arr1 = np.concatenate((a, b), axis=1)\n",
    "print(\"\\n concatenate at axis 1=\\n\",arr1)"
   ]
  },
  {
   "cell_type": "code",
   "execution_count": 47,
   "id": "e4427734",
   "metadata": {},
   "outputs": [
    {
     "name": "stdout",
     "output_type": "stream",
     "text": [
      "[[1 2 3]\n",
      " [4 5 6]]\n"
     ]
    }
   ],
   "source": [
    "a= np.array([[1, 2, 3], [4, 5, 6]])\n",
    "print(a)"
   ]
  },
  {
   "cell_type": "code",
   "execution_count": 48,
   "id": "0e57bc29",
   "metadata": {},
   "outputs": [
    {
     "name": "stdout",
     "output_type": "stream",
     "text": [
      "[[7 8 9]]\n"
     ]
    }
   ],
   "source": [
    "c = np.array([[7,8,9]])\n",
    "print(c)"
   ]
  },
  {
   "cell_type": "code",
   "execution_count": 49,
   "id": "462068b3",
   "metadata": {},
   "outputs": [
    {
     "data": {
      "text/plain": [
       "array([[1, 2, 3],\n",
       "       [4, 5, 6],\n",
       "       [7, 8, 9]])"
      ]
     },
     "execution_count": 49,
     "metadata": {},
     "output_type": "execute_result"
    }
   ],
   "source": [
    "np.append(a,c, axis=0)"
   ]
  },
  {
   "cell_type": "code",
   "execution_count": 50,
   "id": "c9b4dd5e",
   "metadata": {},
   "outputs": [
    {
     "data": {
      "text/plain": [
       "array([2, 4, 6, 1, 3])"
      ]
     },
     "execution_count": 50,
     "metadata": {},
     "output_type": "execute_result"
    }
   ],
   "source": [
    "import numpy as np\n",
    "a = np.array([2,4,6])\n",
    "b = np.array([1,3])\n",
    "np.concatenate((a,b))"
   ]
  },
  {
   "cell_type": "code",
   "execution_count": 51,
   "id": "8227d3ca",
   "metadata": {},
   "outputs": [
    {
     "data": {
      "text/plain": [
       "array([2, 4, 6, 1, 3])"
      ]
     },
     "execution_count": 51,
     "metadata": {},
     "output_type": "execute_result"
    }
   ],
   "source": [
    "np.r_[a,b]"
   ]
  },
  {
   "cell_type": "code",
   "execution_count": 52,
   "id": "77515b1c",
   "metadata": {},
   "outputs": [
    {
     "data": {
      "text/plain": [
       "array([1, 3, 5, 2, 4, 6])"
      ]
     },
     "execution_count": 52,
     "metadata": {},
     "output_type": "execute_result"
    }
   ],
   "source": [
    "a = np.array([1,3,5])\n",
    "b = np.array([2,4,6])\n",
    "np.stack([a,b]).reshape(-1)"
   ]
  },
  {
   "cell_type": "code",
   "execution_count": 53,
   "id": "bb9543b7",
   "metadata": {},
   "outputs": [
    {
     "data": {
      "text/plain": [
       "array([[1, 2, 3],\n",
       "       [5, 6, 7]])"
      ]
     },
     "execution_count": 53,
     "metadata": {},
     "output_type": "execute_result"
    }
   ],
   "source": [
    "a = np.array([1, 2,3])\n",
    "b = np.array([5, 6,7])\n",
    "np.stack([a,b])"
   ]
  },
  {
   "cell_type": "code",
   "execution_count": 54,
   "id": "bc496357",
   "metadata": {},
   "outputs": [
    {
     "name": "stdout",
     "output_type": "stream",
     "text": [
      "\n",
      "hstack =\n",
      " [[   1    2    3    7    8    9]\n",
      " [  10   20   30   77   88   99]\n",
      " [ 110  220  330  700  800  900]\n",
      " [1100 2200 3300 7770 8880 9990]]\n",
      "\n",
      "vstack =\n",
      " [[   1    2    3]\n",
      " [  10   20   30]\n",
      " [ 110  220  330]\n",
      " [1100 2200 3300]\n",
      " [   7    8    9]\n",
      " [  77   88   99]\n",
      " [ 700  800  900]\n",
      " [7770 8880 9990]]\n"
     ]
    }
   ],
   "source": [
    "a = np.array([[1,2,3],[10,20,30],[110,220,330],[1100,2200,3300]])\n",
    "\n",
    "b = np.array([[7,8,9],[77,88,99],[700,800,900],[7770,8880,9990]])\n",
    "\n",
    "print(\"\\nhstack =\\n\", np.hstack((a,b)))\n",
    "print(\"\\nvstack =\\n\", np.vstack((a,b)))"
   ]
  },
  {
   "cell_type": "code",
   "execution_count": 55,
   "id": "6033e869",
   "metadata": {},
   "outputs": [
    {
     "name": "stdout",
     "output_type": "stream",
     "text": [
      "\n",
      "hstack =\n",
      " [[ 1  7]\n",
      " [ 3  9]\n",
      " [ 5 11]]\n",
      "\n",
      "vstack =\n",
      " [[ 1]\n",
      " [ 3]\n",
      " [ 5]\n",
      " [ 7]\n",
      " [ 9]\n",
      " [11]]\n"
     ]
    }
   ],
   "source": [
    "a = np.array([[1],[3],[5]])\n",
    "\n",
    "b = np.array([[7],[9],[11]])\n",
    "\n",
    "print(\"\\nhstack =\\n\", np.hstack((a,b)))\n",
    "print(\"\\nvstack =\\n\", np.vstack((a,b)))"
   ]
  },
  {
   "cell_type": "code",
   "execution_count": 56,
   "id": "de1105f3",
   "metadata": {},
   "outputs": [
    {
     "name": "stdout",
     "output_type": "stream",
     "text": [
      "\n",
      "hstack =\n",
      " [[1 2 5 6]\n",
      " [3 4 7 8]]\n",
      "\n",
      "======next print======\n",
      "\n",
      "vstack =\n",
      " [[1 2]\n",
      " [3 4]\n",
      " [5 6]\n",
      " [7 8]]\n"
     ]
    }
   ],
   "source": [
    "a = np.array([[1,2],[3,4]])\n",
    "\n",
    "b = np.array([[5,6],[7,8]])\n",
    "\n",
    "print(\"\\nhstack =\\n\", np.hstack((a,b)))\n",
    "\n",
    "print(\"\\n======next print======\")\n",
    "\n",
    "print(\"\\nvstack =\\n\", np.vstack((a,b)))"
   ]
  },
  {
   "cell_type": "code",
   "execution_count": 57,
   "id": "46513099",
   "metadata": {},
   "outputs": [
    {
     "data": {
      "text/plain": [
       "array([[1, 3],\n",
       "       [5, 7],\n",
       "       [5, 7]])"
      ]
     },
     "execution_count": 57,
     "metadata": {},
     "output_type": "execute_result"
    }
   ],
   "source": [
    "import numpy as np\n",
    "a = np.array([[1, 3], [5, 7]])\n",
    "b = np.array([[5, 7]])\n",
    "np.concatenate((a, b), axis=0)"
   ]
  },
  {
   "cell_type": "code",
   "execution_count": 58,
   "id": "f80f7739",
   "metadata": {},
   "outputs": [
    {
     "data": {
      "text/plain": [
       "array([[1, 3],\n",
       "       [5, 7],\n",
       "       [5, 7]])"
      ]
     },
     "execution_count": 58,
     "metadata": {},
     "output_type": "execute_result"
    }
   ],
   "source": [
    "np.vstack((a,b))"
   ]
  },
  {
   "cell_type": "code",
   "execution_count": 59,
   "id": "12f06cab",
   "metadata": {},
   "outputs": [
    {
     "ename": "ValueError",
     "evalue": "all the input array dimensions for the concatenation axis must match exactly, but along dimension 0, the array at index 0 has size 2 and the array at index 1 has size 1",
     "output_type": "error",
     "traceback": [
      "\u001b[1;31m---------------------------------------------------------------------------\u001b[0m",
      "\u001b[1;31mValueError\u001b[0m                                Traceback (most recent call last)",
      "\u001b[1;32m<ipython-input-59-ab47451b2341>\u001b[0m in \u001b[0;36m<module>\u001b[1;34m\u001b[0m\n\u001b[1;32m----> 1\u001b[1;33m \u001b[0mnp\u001b[0m\u001b[1;33m.\u001b[0m\u001b[0mconcatenate\u001b[0m\u001b[1;33m(\u001b[0m\u001b[1;33m(\u001b[0m\u001b[0ma\u001b[0m\u001b[1;33m,\u001b[0m \u001b[0mb\u001b[0m\u001b[1;33m)\u001b[0m\u001b[1;33m,\u001b[0m \u001b[0maxis\u001b[0m\u001b[1;33m=\u001b[0m\u001b[1;36m1\u001b[0m\u001b[1;33m)\u001b[0m\u001b[1;33m\u001b[0m\u001b[1;33m\u001b[0m\u001b[0m\n\u001b[0m",
      "\u001b[1;32m<__array_function__ internals>\u001b[0m in \u001b[0;36mconcatenate\u001b[1;34m(*args, **kwargs)\u001b[0m\n",
      "\u001b[1;31mValueError\u001b[0m: all the input array dimensions for the concatenation axis must match exactly, but along dimension 0, the array at index 0 has size 2 and the array at index 1 has size 1"
     ]
    }
   ],
   "source": [
    "np.concatenate((a, b), axis=1)"
   ]
  },
  {
   "cell_type": "code",
   "execution_count": 60,
   "id": "bd66494d",
   "metadata": {},
   "outputs": [
    {
     "data": {
      "text/plain": [
       "array([[1, 3, 5],\n",
       "       [5, 7, 7]])"
      ]
     },
     "execution_count": 60,
     "metadata": {},
     "output_type": "execute_result"
    }
   ],
   "source": [
    "np.concatenate((a, b.T), axis=1)"
   ]
  },
  {
   "cell_type": "code",
   "execution_count": 61,
   "id": "9d2cde34",
   "metadata": {},
   "outputs": [
    {
     "name": "stdout",
     "output_type": "stream",
     "text": [
      "vstack= [[1 3]\n",
      " [5 7]\n",
      " [5 7]]\n",
      "hstack= [[ 1  3  5  7]\n",
      " [ 5  7  9 11]]\n"
     ]
    }
   ],
   "source": [
    "import numpy as np\n",
    "a = np.array([[1, 3], [5, 7]])\n",
    "b = np.array([5, 7])\n",
    "bb= np.array([[5, 7],[9,11]])\n",
    "cc=b.T\n",
    "\n",
    "print(\"vstack=\",np.vstack((a,cc)))\n",
    "\n",
    "print(\"hstack=\",np.hstack((a,bb)))"
   ]
  },
  {
   "cell_type": "code",
   "execution_count": 62,
   "id": "f6b0bfaf",
   "metadata": {},
   "outputs": [
    {
     "name": "stdout",
     "output_type": "stream",
     "text": [
      "[1 2 3]\n",
      "[7 8 9]\n",
      "vstack\n",
      "\n",
      "[[1 2 3]\n",
      " [7 8 9]]\n",
      "concatenate\n",
      "\n",
      "[[1 2 3]\n",
      " [7 8 9]]\n",
      "stack\n",
      "\n",
      "[[1 7]\n",
      " [2 8]\n",
      " [3 9]]\n",
      "concatenate\n",
      "\n",
      "[[1 2 3 7 8 9]]\n",
      "stack\n",
      "\n",
      "[[1 2 3]\n",
      " [7 8 9]]\n",
      "concatenate\n",
      "\n",
      "[[1 2 3]\n",
      " [7 8 9]]\n"
     ]
    }
   ],
   "source": [
    "a = np.array((1,2,3))\n",
    "b = np.array((7,8,9))\n",
    "print(a)\n",
    "print(b)\n",
    "\n",
    "print(\"vstack\\n\")\n",
    "print(np.vstack((a,b)))\n",
    "print(\"concatenate\\n\")\n",
    "print(np.concatenate([a.reshape(1,3),b.reshape(1,3)]))\n",
    "print(\"stack\\n\")\n",
    "print(np.stack((a,b),axis=1))\n",
    "print(\"concatenate\\n\")\n",
    "print(np.concatenate((a.reshape(1,3),b.reshape(1,3)),axis = 1))\n",
    "print(\"stack\\n\")\n",
    "print(np.stack((a,b),axis=0))\n",
    "print(\"concatenate\\n\")\n",
    "print(np.concatenate((a.reshape(1,3),b.reshape(1,3)),axis = 0))"
   ]
  },
  {
   "cell_type": "code",
   "execution_count": null,
   "id": "29331ba8",
   "metadata": {},
   "outputs": [],
   "source": []
  }
 ],
 "metadata": {
  "kernelspec": {
   "display_name": "Python 3",
   "language": "python",
   "name": "python3"
  },
  "language_info": {
   "codemirror_mode": {
    "name": "ipython",
    "version": 3
   },
   "file_extension": ".py",
   "mimetype": "text/x-python",
   "name": "python",
   "nbconvert_exporter": "python",
   "pygments_lexer": "ipython3",
   "version": "3.8.8"
  }
 },
 "nbformat": 4,
 "nbformat_minor": 5
}
